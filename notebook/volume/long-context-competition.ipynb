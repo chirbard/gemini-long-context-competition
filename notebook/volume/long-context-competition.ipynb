{
 "cells": [
  {
   "cell_type": "code",
   "execution_count": 1,
   "id": "b3fb392f-8f92-4c57-b329-5a33b2e57f17",
   "metadata": {
    "scrolled": true
   },
   "outputs": [
    {
     "name": "stdout",
     "output_type": "stream",
     "text": [
      "Requirement already satisfied: google-generativeai in /opt/conda/lib/python3.12/site-packages (0.8.3)\n",
      "Requirement already satisfied: google-ai-generativelanguage==0.6.10 in /opt/conda/lib/python3.12/site-packages (from google-generativeai) (0.6.10)\n",
      "Requirement already satisfied: google-api-core in /opt/conda/lib/python3.12/site-packages (from google-generativeai) (2.23.0)\n",
      "Requirement already satisfied: google-api-python-client in /opt/conda/lib/python3.12/site-packages (from google-generativeai) (2.154.0)\n",
      "Requirement already satisfied: google-auth>=2.15.0 in /opt/conda/lib/python3.12/site-packages (from google-generativeai) (2.36.0)\n",
      "Requirement already satisfied: protobuf in /opt/conda/lib/python3.12/site-packages (from google-generativeai) (5.28.3)\n",
      "Requirement already satisfied: pydantic in /opt/conda/lib/python3.12/site-packages (from google-generativeai) (2.9.2)\n",
      "Requirement already satisfied: tqdm in /opt/conda/lib/python3.12/site-packages (from google-generativeai) (4.67.0)\n",
      "Requirement already satisfied: typing-extensions in /opt/conda/lib/python3.12/site-packages (from google-generativeai) (4.12.2)\n",
      "Requirement already satisfied: proto-plus<2.0.0dev,>=1.22.3 in /opt/conda/lib/python3.12/site-packages (from google-ai-generativelanguage==0.6.10->google-generativeai) (1.25.0)\n",
      "Requirement already satisfied: googleapis-common-protos<2.0.dev0,>=1.56.2 in /opt/conda/lib/python3.12/site-packages (from google-api-core->google-generativeai) (1.66.0)\n",
      "Requirement already satisfied: requests<3.0.0.dev0,>=2.18.0 in /opt/conda/lib/python3.12/site-packages (from google-api-core->google-generativeai) (2.32.3)\n",
      "Requirement already satisfied: cachetools<6.0,>=2.0.0 in /opt/conda/lib/python3.12/site-packages (from google-auth>=2.15.0->google-generativeai) (5.5.0)\n",
      "Requirement already satisfied: pyasn1-modules>=0.2.1 in /opt/conda/lib/python3.12/site-packages (from google-auth>=2.15.0->google-generativeai) (0.4.1)\n",
      "Requirement already satisfied: rsa<5,>=3.1.4 in /opt/conda/lib/python3.12/site-packages (from google-auth>=2.15.0->google-generativeai) (4.9)\n",
      "Requirement already satisfied: httplib2<1.dev0,>=0.19.0 in /opt/conda/lib/python3.12/site-packages (from google-api-python-client->google-generativeai) (0.22.0)\n",
      "Requirement already satisfied: google-auth-httplib2<1.0.0,>=0.2.0 in /opt/conda/lib/python3.12/site-packages (from google-api-python-client->google-generativeai) (0.2.0)\n",
      "Requirement already satisfied: uritemplate<5,>=3.0.1 in /opt/conda/lib/python3.12/site-packages (from google-api-python-client->google-generativeai) (4.1.1)\n",
      "Requirement already satisfied: annotated-types>=0.6.0 in /opt/conda/lib/python3.12/site-packages (from pydantic->google-generativeai) (0.7.0)\n",
      "Requirement already satisfied: pydantic-core==2.23.4 in /opt/conda/lib/python3.12/site-packages (from pydantic->google-generativeai) (2.23.4)\n",
      "Requirement already satisfied: grpcio<2.0dev,>=1.33.2 in /opt/conda/lib/python3.12/site-packages (from google-api-core[grpc]!=2.0.*,!=2.1.*,!=2.10.*,!=2.2.*,!=2.3.*,!=2.4.*,!=2.5.*,!=2.6.*,!=2.7.*,!=2.8.*,!=2.9.*,<3.0.0dev,>=1.34.1->google-ai-generativelanguage==0.6.10->google-generativeai) (1.68.0)\n",
      "Requirement already satisfied: grpcio-status<2.0.dev0,>=1.33.2 in /opt/conda/lib/python3.12/site-packages (from google-api-core[grpc]!=2.0.*,!=2.1.*,!=2.10.*,!=2.2.*,!=2.3.*,!=2.4.*,!=2.5.*,!=2.6.*,!=2.7.*,!=2.8.*,!=2.9.*,<3.0.0dev,>=1.34.1->google-ai-generativelanguage==0.6.10->google-generativeai) (1.68.0)\n",
      "Requirement already satisfied: pyparsing!=3.0.0,!=3.0.1,!=3.0.2,!=3.0.3,<4,>=2.4.2 in /opt/conda/lib/python3.12/site-packages (from httplib2<1.dev0,>=0.19.0->google-api-python-client->google-generativeai) (3.2.0)\n",
      "Requirement already satisfied: pyasn1<0.7.0,>=0.4.6 in /opt/conda/lib/python3.12/site-packages (from pyasn1-modules>=0.2.1->google-auth>=2.15.0->google-generativeai) (0.6.1)\n",
      "Requirement already satisfied: charset-normalizer<4,>=2 in /opt/conda/lib/python3.12/site-packages (from requests<3.0.0.dev0,>=2.18.0->google-api-core->google-generativeai) (3.4.0)\n",
      "Requirement already satisfied: idna<4,>=2.5 in /opt/conda/lib/python3.12/site-packages (from requests<3.0.0.dev0,>=2.18.0->google-api-core->google-generativeai) (3.10)\n",
      "Requirement already satisfied: urllib3<3,>=1.21.1 in /opt/conda/lib/python3.12/site-packages (from requests<3.0.0.dev0,>=2.18.0->google-api-core->google-generativeai) (2.2.3)\n",
      "Requirement already satisfied: certifi>=2017.4.17 in /opt/conda/lib/python3.12/site-packages (from requests<3.0.0.dev0,>=2.18.0->google-api-core->google-generativeai) (2024.8.30)\n",
      "Requirement already satisfied: python-dotenv in /opt/conda/lib/python3.12/site-packages (1.0.1)\n"
     ]
    }
   ],
   "source": [
    "!pip install google-generativeai\n",
    "!pip install python-dotenv"
   ]
  },
  {
   "cell_type": "code",
   "execution_count": 32,
   "id": "d20f8d1f-26b7-4fb4-bca4-75a2dbbf278f",
   "metadata": {},
   "outputs": [],
   "source": [
    "import os\n",
    "import google.generativeai as genai\n",
    "from dotenv import load_dotenv"
   ]
  },
  {
   "cell_type": "code",
   "execution_count": 33,
   "id": "235c24b7-5e44-4c0c-ac5e-2696c2319551",
   "metadata": {},
   "outputs": [],
   "source": [
    "load_dotenv()\n",
    "api_key_1 = os.getenv('GOOGLE_API_KEY_1')\n",
    "api_key_2 = os.getenv('GOOGLE_API_KEY_2')\n",
    "api_key_3 = os.getenv('GOOGLE_API_KEY_3')\n",
    "api_key_4 = os.getenv('GOOGLE_API_KEY_4')\n",
    "api_key_5 = os.getenv('GOOGLE_API_KEY_5')\n",
    "api_key_6 = os.getenv('GOOGLE_API_KEY_6')\n",
    "\n",
    "api_keys = [\n",
    "    api_key_1,\n",
    "    api_key_2,\n",
    "    api_key_3,\n",
    "    api_key_4,\n",
    "    api_key_5,\n",
    "    api_key_6\n",
    "]"
   ]
  },
  {
   "cell_type": "code",
   "execution_count": 35,
   "id": "57109f81-98e6-4b24-9d27-b28f4cfb32c6",
   "metadata": {},
   "outputs": [],
   "source": [
    "filenames = [\n",
    "    \"group_1.txt\",\n",
    "    \"group_2.txt\",\n",
    "    \"group_3.txt\",\n",
    "    \"group_4.txt\",\n",
    "    \"group_5.txt\",\n",
    "    \"group_6.txt\",\n",
    "    \"group_7.txt\",\n",
    "    \"group_8.txt\",\n",
    "    \"group_9.txt\",\n",
    "    \"group_10.txt\",\n",
    "    \"group_11.txt\",\n",
    "    \"group_12.txt\",\n",
    "]"
   ]
  },
  {
   "cell_type": "code",
   "execution_count": 36,
   "id": "70a4d18e-c73c-4d40-98c6-979fdab542f1",
   "metadata": {},
   "outputs": [],
   "source": [
    "file_contents = []"
   ]
  },
  {
   "cell_type": "code",
   "execution_count": 37,
   "id": "15fcd05f-fc9b-463f-92fd-524e907e9a5a",
   "metadata": {},
   "outputs": [],
   "source": [
    "for filename in filenames:\n",
    "    file = open(f\"./data/{filename}\", \"r\")\n",
    "    file_content = file.read()\n",
    "    file.close()\n",
    "    file_contents.append(file_content)"
   ]
  },
  {
   "cell_type": "code",
   "execution_count": 38,
   "id": "c16c5ee4-433d-4536-8a08-2dea6b504d3f",
   "metadata": {},
   "outputs": [],
   "source": [
    "question = \"Kas ma võin autoga sõites alkoholi tarbida?\""
   ]
  },
  {
   "cell_type": "code",
   "execution_count": 39,
   "id": "c9008463-7b09-463e-bc32-af29375eb7d9",
   "metadata": {},
   "outputs": [],
   "source": [
    "system_prompt = \"Sa oled seaduste abiline. Kui sulle antud seaduses on küsimusele vastust, siis vasta sellele. Kui vastus puudub, siis vasta '0'\""
   ]
  },
  {
   "cell_type": "code",
   "execution_count": 40,
   "id": "3628a025-ccd5-4600-86c2-84dadccac3f6",
   "metadata": {},
   "outputs": [],
   "source": [
    "response_format = \"\"\"kastuta vastamisel järgmist formaati:\n",
    "<seaduse nimi>\n",
    "\n",
    "<sinu vastus>\"\"\""
   ]
  },
  {
   "cell_type": "code",
   "execution_count": 41,
   "id": "f5d13796-e9f1-4e79-be40-98b77fff978d",
   "metadata": {},
   "outputs": [],
   "source": [
    "responses = []"
   ]
  },
  {
   "cell_type": "code",
   "execution_count": 42,
   "id": "66072c7c-b063-4fc5-8d52-7dbc44897b9c",
   "metadata": {},
   "outputs": [
    {
     "name": "stdout",
     "output_type": "stream",
     "text": [
      "progress: 1/12\n",
      "progress: 2/12\n",
      "progress: 3/12\n",
      "progress: 4/12\n",
      "progress: 5/12\n",
      "progress: 6/12\n",
      "progress: 7/12\n",
      "progress: 8/12\n",
      "progress: 9/12\n",
      "progress: 10/12\n",
      "progress: 11/12\n",
      "progress: 12/12\n"
     ]
    }
   ],
   "source": [
    "group_index = 0\n",
    "group_count = len(api_keys) * 2\n",
    "\n",
    "for api_key in api_keys:\n",
    "    genai.configure(api_key=api_key)\n",
    "\n",
    "    print(f\"progress: {group_index + 1}/{group_count}\")\n",
    "    file_content = file_contents[group_index]\n",
    "    model = genai.GenerativeModel(\"gemini-1.5-flash\")\n",
    "    response_text = model.generate_content([\n",
    "        system_prompt,\n",
    "        response_format,\n",
    "        file_content,\n",
    "        \"Küsimus on järgmine:\",\n",
    "        question\n",
    "    ]).text\n",
    "    responses.append(response_text)\n",
    "\n",
    "    group_index += 1\n",
    "\n",
    "    print(f\"progress: {group_index + 1}/{group_count}\")\n",
    "    file_content = file_contents[group_index]\n",
    "    model = genai.GenerativeModel(\"gemini-1.5-flash-8b\")\n",
    "    response_text = model.generate_content([\n",
    "        system_prompt,\n",
    "        response_format,\n",
    "        file_content,\n",
    "        \"Küsimus on järgmine:\",\n",
    "        question\n",
    "    ]).text\n",
    "    responses.append(response_text)\n",
    "\n",
    "    group_index += 1"
   ]
  },
  {
   "cell_type": "code",
   "execution_count": 43,
   "id": "882f4be6-304a-4d14-b926-3df5760a6860",
   "metadata": {},
   "outputs": [
    {
     "name": "stdout",
     "output_type": "stream",
     "text": [
      "Võlaõigusseadus\n",
      "\n",
      "0\n",
      "\n",
      "<Liiklusseadus>\n",
      "\n",
      "0\n",
      "\n",
      "Karistusseadustik\n",
      "\n",
      "Ei. Karistusseadustiku § 424 sätestab, et mootorsõiduki juhtimise eest joobeseisundis karistatakse rahalise karistuse või kuni kolmeaastase vangistusega.\n",
      "\n",
      "<Meresõiduohutuse seadus>\n",
      "\n",
      "0\n",
      "\n",
      "Sotsiaalhoolekande seadus\n",
      "\n",
      "0\n",
      "<Liiklusseadus>\n",
      "\n",
      "0\n",
      "\n",
      "Autoveoseadus\n",
      "\n",
      "Ei, see on keelatud. Autoveoseaduse § 97 lõige 1 sätestab, et autojuht ei tohi olla alkoholi tarvitanud.\n",
      "\n",
      "<Liiklusseadus>\n",
      "\n",
      "0\n",
      "\n",
      "Tubakaseadus\n",
      "\n",
      "0\n",
      "\n",
      "0\n",
      "\n",
      "Reklaamiseadus\n",
      "\n",
      "0\n",
      "\n",
      "Eesti Rahvusringhäälingu seadus\n",
      "\n",
      "0\n",
      "\n",
      "Patendivoliniku seadus\n",
      "\n",
      "0\n",
      "\n",
      "Tõestamisseadus\n",
      "\n",
      "0\n",
      "\n",
      "Põhiseaduslikkuse järelevalve kohtumenetluse seadus\n",
      "\n",
      "0\n",
      "\n",
      "Kinnisasja avalikes huvides omandamise seadus\n",
      "\n",
      "0\n",
      "\n",
      "Rahvusvahelise eraõiguse seadus\n",
      "\n",
      "0\n",
      "\n",
      "Lastekaitseseadus\n",
      "\n",
      "0\n",
      "\n",
      "Mõõteseadus\n",
      "\n",
      "0\n",
      "\n",
      "Vedelkütuse erimärgistamise seadus\n",
      "\n",
      "0\n",
      "\n",
      "Rahvusvahelise eraõiguse seadus\n",
      "\n",
      "0\n",
      "\n",
      "Päästeteenistuse seadus\n",
      "\n",
      "0\n",
      "\n",
      "Eesti Panga seadus\n",
      "\n",
      "0\n",
      "\n",
      "Teenetemärkide seadus\n",
      "\n",
      "0\n",
      "\n",
      "Erakonnaseadus\n",
      "\n",
      "0\n",
      "\n",
      "Vedelkütusevaru seadus\n",
      "\n",
      "0\n",
      "\n",
      "Turismiseadus\n",
      "\n",
      "0\n",
      "\n",
      "Meditsiiniseadme seadus\n",
      "\n",
      "0\n",
      "\n",
      "Geograafilise tähise kaitse seadus\n",
      "\n",
      "0\n",
      "\n",
      "Rahvatervise seadus\n",
      "\n",
      "0\n",
      "\n",
      "Kutseseadus\n",
      "\n",
      "0\n",
      "\n",
      "Maakorraldusseadus\n",
      "\n",
      "0\n",
      "<ei ole seaduses nimetatud>\n",
      "\n",
      "0\n",
      "\n"
     ]
    }
   ],
   "source": [
    "for response in responses:\n",
    "    print(response)"
   ]
  },
  {
   "cell_type": "code",
   "execution_count": 44,
   "id": "ca85e640-f573-447c-bdc1-0e732cf506a7",
   "metadata": {},
   "outputs": [],
   "source": [
    "genai.configure(api_key=api_keys[0])\n",
    "model = genai.GenerativeModel(\"gemini-1.5-pro\")\n",
    "\n",
    "prompt = (\n",
    "    [\"Sulle antakse mitme erineva mudeli vastused erinevatest seadustest, tsiteeri mulle mudeli vastuseid, mis pole '0'\"] +\n",
    "    [response_format] +\n",
    "    responses + \n",
    "    [\"Küsimus on järgnev:\"] +\n",
    "    [question]\n",
    ")\n",
    "\n",
    "best_answer = model.generate_content(prompt)"
   ]
  },
  {
   "cell_type": "code",
   "execution_count": 45,
   "id": "7f23f8b0-ded7-47a9-bc4e-07a925106ab9",
   "metadata": {},
   "outputs": [
    {
     "name": "stdout",
     "output_type": "stream",
     "text": [
      "**Karistusseadustik**\n",
      "\n",
      "Ei. Karistusseadustiku § 424 sätestab, et mootorsõiduki juhtimise eest joobeseisundis karistatakse rahalise karistuse või kuni kolmeaastase vangistusega.\n",
      "\n",
      "**Autoveoseadus**\n",
      "\n",
      "Ei, see on keelatud. Autoveoseaduse § 97 lõige 1 sätestab, et autojuht ei tohi olla alkoholi tarvitanud.\n",
      "\n"
     ]
    }
   ],
   "source": [
    "print(best_answer.text)"
   ]
  },
  {
   "cell_type": "markdown",
   "id": "ade0e51f-b4ca-4876-8fbc-fac4ed9d400a",
   "metadata": {},
   "source": [
    "## TODO\n",
    "hektel vastus tuleb umbes 15 minuti, aga me saaksime päringud teha paralleelselt, siis peaks vastus tulema umbes 2 minutiga."
   ]
  }
 ],
 "metadata": {
  "kernelspec": {
   "display_name": "Python 3 (ipykernel)",
   "language": "python",
   "name": "python3"
  },
  "language_info": {
   "codemirror_mode": {
    "name": "ipython",
    "version": 3
   },
   "file_extension": ".py",
   "mimetype": "text/x-python",
   "name": "python",
   "nbconvert_exporter": "python",
   "pygments_lexer": "ipython3",
   "version": "3.12.7"
  }
 },
 "nbformat": 4,
 "nbformat_minor": 5
}
